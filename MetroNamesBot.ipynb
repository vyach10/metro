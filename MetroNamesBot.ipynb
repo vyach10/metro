{
  "nbformat": 4,
  "nbformat_minor": 0,
  "metadata": {
    "colab": {
      "name": "MetroNamesBot.ipynb",
      "provenance": [],
      "mount_file_id": "1RUJD7F35qWntAnwJALMgPeB6y99HKefb",
      "authorship_tag": "ABX9TyO8mokyOmTmNarzOoZQPtrx",
      "include_colab_link": true
    },
    "kernelspec": {
      "name": "python3",
      "display_name": "Python 3"
    }
  },
  "cells": [
    {
      "cell_type": "markdown",
      "metadata": {
        "id": "view-in-github",
        "colab_type": "text"
      },
      "source": [
        "<a href=\"https://colab.research.google.com/github/vyach10/metro/blob/master/MetroNamesBot.ipynb\" target=\"_parent\"><img src=\"https://colab.research.google.com/assets/colab-badge.svg\" alt=\"Open In Colab\"/></a>"
      ]
    },
    {
      "cell_type": "code",
      "metadata": {
        "id": "BoDWr11O_MQi",
        "colab_type": "code",
        "colab": {
          "base_uri": "https://localhost:8080/",
          "height": 326
        },
        "outputId": "34ef7c5d-c63d-4d10-9edb-2db48a43a6d6"
      },
      "source": [
        "! pip install pytelegrambotapi"
      ],
      "execution_count": 3,
      "outputs": [
        {
          "output_type": "stream",
          "text": [
            "ERROR! Session/line number was not unique in database. History logging moved to new session 59\n",
            "Collecting pytelegrambotapi\n",
            "\u001b[?25l  Downloading https://files.pythonhosted.org/packages/62/ab/99c606f69fcda57e35788b913dd34c9d9acb48dd26349141b3855dcf6351/pyTelegramBotAPI-3.6.7.tar.gz (65kB)\n",
            "\u001b[K     |████████████████████████████████| 71kB 2.0MB/s \n",
            "\u001b[?25hRequirement already satisfied: requests in /usr/local/lib/python3.6/dist-packages (from pytelegrambotapi) (2.21.0)\n",
            "Requirement already satisfied: six in /usr/local/lib/python3.6/dist-packages (from pytelegrambotapi) (1.12.0)\n",
            "Requirement already satisfied: chardet<3.1.0,>=3.0.2 in /usr/local/lib/python3.6/dist-packages (from requests->pytelegrambotapi) (3.0.4)\n",
            "Requirement already satisfied: certifi>=2017.4.17 in /usr/local/lib/python3.6/dist-packages (from requests->pytelegrambotapi) (2019.11.28)\n",
            "Requirement already satisfied: idna<2.9,>=2.5 in /usr/local/lib/python3.6/dist-packages (from requests->pytelegrambotapi) (2.8)\n",
            "Requirement already satisfied: urllib3<1.25,>=1.21.1 in /usr/local/lib/python3.6/dist-packages (from requests->pytelegrambotapi) (1.24.3)\n",
            "Building wheels for collected packages: pytelegrambotapi\n",
            "  Building wheel for pytelegrambotapi (setup.py) ... \u001b[?25l\u001b[?25hdone\n",
            "  Created wheel for pytelegrambotapi: filename=pyTelegramBotAPI-3.6.7-cp36-none-any.whl size=47178 sha256=2ae6d88e358d8fc1f53ec90ef3d3e404bcc557b5bb30a9ec9bb272735a39b90a\n",
            "  Stored in directory: /root/.cache/pip/wheels/23/40/18/8a34153f95ef0dc19e3954898e5a5079244b76a8afdd7d0ec5\n",
            "Successfully built pytelegrambotapi\n",
            "Installing collected packages: pytelegrambotapi\n",
            "Successfully installed pytelegrambotapi-3.6.7\n"
          ],
          "name": "stdout"
        }
      ]
    },
    {
      "cell_type": "code",
      "metadata": {
        "id": "18j1kbywAXyc",
        "colab_type": "code",
        "colab": {}
      },
      "source": [
        "import telebot\n",
        "import re\n",
        "\n",
        "API_TOKEN = '853778348:AAFSMMu5Lvz9_Jg1j9P7L-efBu3ay1RzPKs'\n",
        "bot = telebot.TeleBot(API_TOKEN)\n",
        "\n",
        "f = open('/content/sample_data/listmsk.txt', 'r')   # здесь лежит файл со станциями:\n",
        "content = f.readlines()\n",
        "\n",
        "@bot.message_handler(func=lambda message: True)\n",
        "def echo_message(message):\n",
        "  poisk=str(message.text)\n",
        "  print(poisk)\n",
        "  ans = ''\n",
        "  shablon = ''\n",
        "  for i in range(0,len(poisk)):\n",
        "    shablon = shablon+poisk[i]\n",
        "    shablon = shablon+'.'\n",
        "    shablon = shablon+'*'\n",
        "  for i in range(0,len(content)):\n",
        "    mat = re.search(shablon, content[i], re.I)\n",
        "    if mat:\n",
        "      ans=ans+'\\n'+content[i][0:len(content[i])-1]\n",
        "  if ans=='':\n",
        "    ans='Запрос не содержится ни в одной из станций :('\n",
        "  bot.reply_to(message, ans.format(message.text))\n",
        "  print(ans)"
      ],
      "execution_count": 0,
      "outputs": []
    },
    {
      "cell_type": "code",
      "metadata": {
        "id": "W6orehwDLZ29",
        "colab_type": "code",
        "colab": {
          "base_uri": "https://localhost:8080/",
          "height": 1000
        },
        "outputId": "e00a1a8c-f0a3-42ca-d8db-a810e1a2cc65"
      },
      "source": [
        "bot.polling()"
      ],
      "execution_count": 0,
      "outputs": [
        {
          "output_type": "stream",
          "text": [
            "Настя\n",
            "Ана\n",
            "Запрос не содержится ни в одной из станций :(\n",
            "Лето\n",
            "\n",
            "Авиамоторная \n",
            "Александровский сад \n",
            "Алма-Атинская \n",
            "Андроновка \n",
            "Авиамоторная \n",
            "Бабушкинская \n",
            "Багратионовская \n",
            "Баррикадная\n",
            "Бауманская\n",
            "Белокаменная\n",
            "Библиотека имени Ленина\n",
            "Ботанический сад\n",
            "Ботанический сад\n",
            "Выставочная \n",
            "Кантемировская \n",
            "Красногвардейская\n",
            "Краснопресненская\n",
            "Красносельская \n",
            "Красные ворота \n",
            "Лухмановская\n",
            "Марьина роща\n",
            "Международная\n",
            "Нагатинская \n",
            "Нагорная \n",
            "Панфиловская\n",
            "Партизанская \n",
            "Планерная \n",
            "Площадь Гагарина\n",
            "Преображенская площадь \n",
            "Славянский бульвар\n",
            "Стахановская\n",
            "Таганская\n",
            "Театральная\n",
            "Улица Милашенкова\n",
            "Улица Сергея Эйзенштейна \n",
            "Улица Народного ополчения \n",
            "Улица Новаторов \n",
            "Чертановская \n",
            "Юго-Западная \n",
            "\n",
            "Лермонтовский проспект\n",
            "Лефортово\n",
            "Электрозаводская \n",
            "Ананас\n",
            "Запрос не содержится ни в одной из станций :(\n",
            "Настя\n",
            "Запрос не содержится ни в одной из станций :(\n",
            "Лира\n",
            "\n",
            "Бульвар адмирала Ушакова\n",
            "Селигерская\n",
            "Соколиная Гора\n",
            "Улица Академика Королёва \n",
            "Улица Горчакова \n",
            "Улица Сергея Эйзенштейна \n",
            "Улица Старокачаловская\n",
            "Хуй\n",
            "Запрос не содержится ни в одной из станций :(\n",
            "Слава\n",
            "\n",
            "Братиславская\n",
            "Славянский бульвар\n",
            "Лето\n",
            "\n",
            "Лермонтовский проспект\n",
            "Лефортово\n",
            "Электрозаводская \n"
          ],
          "name": "stdout"
        }
      ]
    }
  ]
}